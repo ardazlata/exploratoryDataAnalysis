{
 "cells": [
  {
   "cell_type": "markdown",
   "source": [
    "# Exploratory Data Analysis\n",
    "\n",
    "Arda Erdoğan\n",
    "\n",
    "Data: \"\""
   ],
   "metadata": {
    "collapsed": false
   },
   "id": "1f2190def1d87dfb"
  },
  {
   "cell_type": "code",
   "execution_count": 15,
   "id": "initial_id",
   "metadata": {
    "collapsed": true,
    "ExecuteTime": {
     "end_time": "2023-08-28T17:08:47.156310400Z",
     "start_time": "2023-08-28T17:08:47.083180100Z"
    }
   },
   "outputs": [],
   "source": [
    "import pandas as pd\n",
    "\n",
    "df = pd.read_csv(\"netflix_titles.csv\")\n",
    "df[\"date_added\"] = pd.to_datetime(df['date_added'].str.strip(), format='%B %d, %Y')"
   ]
  },
  {
   "cell_type": "code",
   "execution_count": 16,
   "outputs": [
    {
     "data": {
      "text/plain": "show_id                 object\ntype                    object\ntitle                   object\ndirector                object\ncast                    object\ncountry                 object\ndate_added      datetime64[ns]\nrelease_year             int64\nrating                  object\nduration                object\nlisted_in               object\ndescription             object\ndtype: object"
     },
     "execution_count": 16,
     "metadata": {},
     "output_type": "execute_result"
    }
   ],
   "source": [
    "df.dtypes"
   ],
   "metadata": {
    "collapsed": false,
    "ExecuteTime": {
     "end_time": "2023-08-28T17:08:47.167256Z",
     "start_time": "2023-08-28T17:08:47.162106400Z"
    }
   },
   "id": "ea565f057f8ececf"
  },
  {
   "cell_type": "code",
   "execution_count": 16,
   "outputs": [],
   "source": [],
   "metadata": {
    "collapsed": false,
    "ExecuteTime": {
     "end_time": "2023-08-28T17:08:47.168753700Z",
     "start_time": "2023-08-28T17:08:47.167256Z"
    }
   },
   "id": "519581b3e737f551"
  }
 ],
 "metadata": {
  "kernelspec": {
   "display_name": "Python 3",
   "language": "python",
   "name": "python3"
  },
  "language_info": {
   "codemirror_mode": {
    "name": "ipython",
    "version": 2
   },
   "file_extension": ".py",
   "mimetype": "text/x-python",
   "name": "python",
   "nbconvert_exporter": "python",
   "pygments_lexer": "ipython2",
   "version": "2.7.6"
  }
 },
 "nbformat": 4,
 "nbformat_minor": 5
}
